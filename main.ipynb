{
  "nbformat": 4,
  "nbformat_minor": 0,
  "metadata": {
    "colab": {
      "provenance": [],
      "authorship_tag": "ABX9TyN/dlQNk6RU+ay/bs6Y2q3v",
      "include_colab_link": true
    },
    "kernelspec": {
      "name": "python3",
      "display_name": "Python 3"
    },
    "language_info": {
      "name": "python"
    }
  },
  "cells": [
    {
      "cell_type": "markdown",
      "metadata": {
        "id": "view-in-github",
        "colab_type": "text"
      },
      "source": [
        "<a href=\"https://colab.research.google.com/github/saulrubio75/lab-numpy/blob/master/main.ipynb\" target=\"_parent\"><img src=\"https://colab.research.google.com/assets/colab-badge.svg\" alt=\"Open In Colab\"/></a>"
      ]
    },
    {
      "cell_type": "code",
      "execution_count": 4,
      "metadata": {
        "id": "tsbuDcclcOq9"
      },
      "outputs": [],
      "source": [
        "#1. Import the NUMPY package under the name np. \n",
        "import numpy as np \n"
      ]
    },
    {
      "cell_type": "code",
      "source": [
        "#2. Print the NUMPY version and the configuration. \n",
        "np.__version__"
      ],
      "metadata": {
        "colab": {
          "base_uri": "https://localhost:8080/",
          "height": 37
        },
        "id": "ZmYAMR2CdZOV",
        "outputId": "30e1a050-fd24-42d8-a031-2b6ac5effa52"
      },
      "execution_count": 56,
      "outputs": [
        {
          "output_type": "execute_result",
          "data": {
            "text/plain": [
              "'1.21.6'"
            ],
            "application/vnd.google.colaboratory.intrinsic+json": {
              "type": "string"
            }
          },
          "metadata": {},
          "execution_count": 56
        }
      ]
    },
    {
      "cell_type": "code",
      "source": [
        "#3. Generate a 2x3x5 3-dimensional array with random values. Assign the array to variable \"a\"\n",
        "# Challenge: there are at least three easy ways that use numpy to generate random arrays. How many ways can you find? \n",
        "a = np.random.random((2, 3, 5)) \n"
      ],
      "metadata": {
        "id": "H0AQGflQcqwy"
      },
      "execution_count": 57,
      "outputs": []
    },
    {
      "cell_type": "code",
      "source": [
        "#4. Print a. \n",
        "print(a)"
      ],
      "metadata": {
        "colab": {
          "base_uri": "https://localhost:8080/"
        },
        "id": "vDpEXtxdeh6q",
        "outputId": "f635ab75-e2fb-44f2-c984-c15f6dd1630f"
      },
      "execution_count": 7,
      "outputs": [
        {
          "output_type": "stream",
          "name": "stdout",
          "text": [
            "[[[0.22061626 0.03956787 0.12436519 0.49482995 0.61523096]\n",
            "  [0.2752473  0.95886793 0.8865649  0.52932595 0.95583747]\n",
            "  [0.43054188 0.72482692 0.25826781 0.3425855  0.43286726]]\n",
            "\n",
            " [[0.15274832 0.28113295 0.39625428 0.86895    0.03224965]\n",
            "  [0.10791113 0.23738388 0.70676912 0.21320371 0.61999786]\n",
            "  [0.91363109 0.60221975 0.10354914 0.98968953 0.18382499]]]\n"
          ]
        }
      ]
    },
    {
      "cell_type": "code",
      "source": [
        "\n",
        "#5. Create a 5x2x3 3-dimensional array with all values equaling 1.\n",
        "#Assign the array to variable \"b\" \n",
        "b= np.ones((5, 2, 3)) \n",
        "\n",
        "\n",
        "\n",
        "\n",
        "\n",
        " \n",
        "\n",
        "\n"
      ],
      "metadata": {
        "colab": {
          "base_uri": "https://localhost:8080/"
        },
        "id": "KbAnSHHhdhtF",
        "outputId": "92296d9a-3eb4-4ac5-94c8-1ce38c8590ba"
      },
      "execution_count": 59,
      "outputs": [
        {
          "output_type": "stream",
          "name": "stdout",
          "text": [
            "[[[1. 1. 1.]\n",
            "  [1. 1. 1.]]\n",
            "\n",
            " [[1. 1. 1.]\n",
            "  [1. 1. 1.]]\n",
            "\n",
            " [[1. 1. 1.]\n",
            "  [1. 1. 1.]]\n",
            "\n",
            " [[1. 1. 1.]\n",
            "  [1. 1. 1.]]\n",
            "\n",
            " [[1. 1. 1.]\n",
            "  [1. 1. 1.]]]\n"
          ]
        }
      ]
    },
    {
      "cell_type": "markdown",
      "source": [],
      "metadata": {
        "id": "y7PVgDP7cfNs"
      }
    },
    {
      "cell_type": "code",
      "source": [
        "#6. Print b. \n",
        "print(b)"
      ],
      "metadata": {
        "id": "MZD1l1-cdrm5"
      },
      "execution_count": null,
      "outputs": []
    },
    {
      "cell_type": "code",
      "source": [
        "#7. Do a and b have the same size? How do you prove that in Python code? \n",
        "print(a.size == b.size)"
      ],
      "metadata": {
        "colab": {
          "base_uri": "https://localhost:8080/"
        },
        "id": "2so0mAjOduAz",
        "outputId": "f5b77e2e-cdb4-4197-dd08-cc368d4b20a3"
      },
      "execution_count": 62,
      "outputs": [
        {
          "output_type": "stream",
          "name": "stdout",
          "text": [
            "True\n"
          ]
        }
      ]
    },
    {
      "cell_type": "code",
      "source": [
        "#8. Are you able to add a and b? Why or why not?  \n",
        "a + b # we can´t add a and b because it is not the same shape \n",
        "\n"
      ],
      "metadata": {
        "colab": {
          "base_uri": "https://localhost:8080/",
          "height": 198
        },
        "id": "hGi6So_BdwBM",
        "outputId": "2edfdc0f-a1ab-4a17-ec16-2274d70db98f"
      },
      "execution_count": 63,
      "outputs": [
        {
          "output_type": "error",
          "ename": "ValueError",
          "evalue": "ignored",
          "traceback": [
            "\u001b[0;31m---------------------------------------------------------------------------\u001b[0m",
            "\u001b[0;31mValueError\u001b[0m                                Traceback (most recent call last)",
            "\u001b[0;32m<ipython-input-63-bbf92a69783d>\u001b[0m in \u001b[0;36m<module>\u001b[0;34m\u001b[0m\n\u001b[1;32m      1\u001b[0m \u001b[0;31m#8. Are you able to add a and b? Why or why not?\u001b[0m\u001b[0;34m\u001b[0m\u001b[0;34m\u001b[0m\u001b[0;34m\u001b[0m\u001b[0m\n\u001b[0;32m----> 2\u001b[0;31m \u001b[0ma\u001b[0m \u001b[0;34m+\u001b[0m \u001b[0mb\u001b[0m\u001b[0;34m\u001b[0m\u001b[0;34m\u001b[0m\u001b[0m\n\u001b[0m\u001b[1;32m      3\u001b[0m \u001b[0;34m\u001b[0m\u001b[0m\n",
            "\u001b[0;31mValueError\u001b[0m: operands could not be broadcast together with shapes (2,3,5) (5,2,3) "
          ]
        }
      ]
    },
    {
      "cell_type": "code",
      "source": [
        "#9. Transpose b so that it has the same structure of a (i.e. become a 2x3x5 array). Assign the transposed array to varialbe \"c\". \n",
        "\n",
        "c = b.transpose() \n",
        "c = b.reshape(2, 3, 5)\n",
        "\n",
        "print(c)\n",
        "\n",
        "\n",
        "\n",
        "\n"
      ],
      "metadata": {
        "colab": {
          "base_uri": "https://localhost:8080/"
        },
        "id": "SZRbi4nrdxrc",
        "outputId": "d3fb7544-3256-4a54-a8d4-f05289bf3415"
      },
      "execution_count": 67,
      "outputs": [
        {
          "output_type": "stream",
          "name": "stdout",
          "text": [
            "[[[1. 1. 1. 1. 1.]\n",
            "  [1. 1. 1. 1. 1.]\n",
            "  [1. 1. 1. 1. 1.]]\n",
            "\n",
            " [[1. 1. 1. 1. 1.]\n",
            "  [1. 1. 1. 1. 1.]\n",
            "  [1. 1. 1. 1. 1.]]]\n"
          ]
        }
      ]
    },
    {
      "cell_type": "code",
      "source": [
        "#10. Try to add a and c. Now it should work. Assign the sum to varialbe \"d\". But why does it work now? \n",
        "\n",
        "d = a + c  #This works 'cause we reshape b into the shape of a \n",
        "print(d)\n"
      ],
      "metadata": {
        "colab": {
          "base_uri": "https://localhost:8080/"
        },
        "id": "_0wL6l8Jdz3z",
        "outputId": "0516b31d-1744-4c14-ae16-ee6682b389e6"
      },
      "execution_count": 69,
      "outputs": [
        {
          "output_type": "stream",
          "name": "stdout",
          "text": [
            "[[[1.70545093 1.05375956 1.65640266 1.84122242 1.98486184]\n",
            "  [1.16528782 1.80211606 1.53037329 1.61758331 1.80421208]\n",
            "  [1.09143982 1.94143268 1.25727366 1.64219922 1.09262126]]\n",
            "\n",
            " [[1.88364845 1.0728972  1.09391193 1.77219534 1.18585808]\n",
            "  [1.23653994 1.26110976 1.72429009 1.343431   1.4964224 ]\n",
            "  [1.8501884  1.77996787 1.64215756 1.91902902 1.51070768]]]\n"
          ]
        }
      ]
    },
    {
      "cell_type": "code",
      "source": [
        "#11. Print a and d. Notice the difference and relation of the two array in terms of the values? Explain. \n",
        "\n",
        "print(a)  #When we add this arrays we add the first number of the array a with the first number of  array c, and the second with the second\n",
        "\n",
        "\n"
      ],
      "metadata": {
        "colab": {
          "base_uri": "https://localhost:8080/"
        },
        "id": "o0mIHddSd17k",
        "outputId": "7cfe46a0-eaf8-4887-e046-bd4bb4d5b919"
      },
      "execution_count": 72,
      "outputs": [
        {
          "output_type": "stream",
          "name": "stdout",
          "text": [
            "[[[0.70545093 0.05375956 0.65640266 0.84122242 0.98486184]\n",
            "  [0.16528782 0.80211606 0.53037329 0.61758331 0.80421208]\n",
            "  [0.09143982 0.94143268 0.25727366 0.64219922 0.09262126]]\n",
            "\n",
            " [[0.88364845 0.0728972  0.09391193 0.77219534 0.18585808]\n",
            "  [0.23653994 0.26110976 0.72429009 0.343431   0.4964224 ]\n",
            "  [0.8501884  0.77996787 0.64215756 0.91902902 0.51070768]]]\n"
          ]
        }
      ]
    },
    {
      "cell_type": "code",
      "source": [
        "print(d)"
      ],
      "metadata": {
        "id": "fxN1_u74xnM7",
        "outputId": "8779e8d5-ced7-4ea8-8eca-e4860dd23553",
        "colab": {
          "base_uri": "https://localhost:8080/"
        }
      },
      "execution_count": 73,
      "outputs": [
        {
          "output_type": "stream",
          "name": "stdout",
          "text": [
            "[[[1.70545093 1.05375956 1.65640266 1.84122242 1.98486184]\n",
            "  [1.16528782 1.80211606 1.53037329 1.61758331 1.80421208]\n",
            "  [1.09143982 1.94143268 1.25727366 1.64219922 1.09262126]]\n",
            "\n",
            " [[1.88364845 1.0728972  1.09391193 1.77219534 1.18585808]\n",
            "  [1.23653994 1.26110976 1.72429009 1.343431   1.4964224 ]\n",
            "  [1.8501884  1.77996787 1.64215756 1.91902902 1.51070768]]]\n"
          ]
        }
      ]
    },
    {
      "cell_type": "code",
      "source": [
        "#12. Multiply a and c. Assign the result to e. \n",
        "e = a * c "
      ],
      "metadata": {
        "id": "h0X2u22Ld3gF"
      },
      "execution_count": 74,
      "outputs": []
    },
    {
      "cell_type": "code",
      "source": [
        "#13. Does e equal to a? Why or why not? \n",
        "print(e) \n",
        "\n",
        "\n",
        "print(a) #Yes 'cause every number multiple by 1 it's the same number"
      ],
      "metadata": {
        "colab": {
          "base_uri": "https://localhost:8080/"
        },
        "id": "S8R3jpjbd5ML",
        "outputId": "a4a769be-a415-4f17-96e3-886fa37c3f53"
      },
      "execution_count": 78,
      "outputs": [
        {
          "output_type": "stream",
          "name": "stdout",
          "text": [
            "[[[0.70545093 0.05375956 0.65640266 0.84122242 0.98486184]\n",
            "  [0.16528782 0.80211606 0.53037329 0.61758331 0.80421208]\n",
            "  [0.09143982 0.94143268 0.25727366 0.64219922 0.09262126]]\n",
            "\n",
            " [[0.88364845 0.0728972  0.09391193 0.77219534 0.18585808]\n",
            "  [0.23653994 0.26110976 0.72429009 0.343431   0.4964224 ]\n",
            "  [0.8501884  0.77996787 0.64215756 0.91902902 0.51070768]]]\n",
            "[[[0.70545093 0.05375956 0.65640266 0.84122242 0.98486184]\n",
            "  [0.16528782 0.80211606 0.53037329 0.61758331 0.80421208]\n",
            "  [0.09143982 0.94143268 0.25727366 0.64219922 0.09262126]]\n",
            "\n",
            " [[0.88364845 0.0728972  0.09391193 0.77219534 0.18585808]\n",
            "  [0.23653994 0.26110976 0.72429009 0.343431   0.4964224 ]\n",
            "  [0.8501884  0.77996787 0.64215756 0.91902902 0.51070768]]]\n"
          ]
        }
      ]
    },
    {
      "cell_type": "code",
      "source": [
        "#14. Identify the max, min, and mean values in d. Assign those values to variables \"d_max\", \"d_min\", and \"d_mean\"  \n",
        "d_max = d.max()\n",
        "d_min = d.min() \n",
        "d_mean = d.mean() \n",
        "\n",
        "\n",
        "print(d_max) \n",
        "print(d_min) \n",
        "print(d_mean)\n"
      ],
      "metadata": {
        "colab": {
          "base_uri": "https://localhost:8080/"
        },
        "id": "FvGeVYRYd71c",
        "outputId": "e55f2d36-c6a6-4565-cfaf-44cf28b96958"
      },
      "execution_count": 81,
      "outputs": [
        {
          "output_type": "stream",
          "name": "stdout",
          "text": [
            "1.9848618384826209\n",
            "1.0537595629946974\n",
            "1.531953043922407\n"
          ]
        }
      ]
    },
    {
      "cell_type": "code",
      "source": [
        "#15. Now we want to label the values in d. First create an empty array \"f\" with the same shape (i.e. 2x3x5) as d using `np.empty`. \n",
        "\n",
        "f = np.empty\n"
      ],
      "metadata": {
        "id": "I12U_TWCd-Tg"
      },
      "execution_count": null,
      "outputs": []
    },
    {
      "cell_type": "code",
      "source": [
        "\"\"\"\n",
        "#16. Populate the values in f. For each value in d, if it's larger than d_min but smaller than d_mean, assign 25 to the corresponding value in f.\n",
        "If a value in d is larger than d_mean but smaller than d_max, assign 75 to the corresponding value in f.\n",
        "If a value equals to d_mean, assign 50 to the corresponding value in f.\n",
        "Assign 0 to the corresponding value(s) in f for d_min in d.\n",
        "Assign 100 to the corresponding value(s) in f for d_max in d.\n",
        "In the end, f should have only the following values: 0, 25, 50, 75, and 100.\n",
        "Note: you don't have to use Numpy in this question. \n",
        "\"\"\" \n",
        "f= np.where(d==d_min, 0, np.where(d == d_max, 100, \n",
        "  np.where(d == d_mean, 50,\n",
        "  np.where((d_min < d) & (d<d_mean), 25, \n",
        "  np.where((d_mean < d) & (d<d_max), 75, 1000)))))\n",
        "\n"
      ],
      "metadata": {
        "id": "-manaJu9eGay"
      },
      "execution_count": 86,
      "outputs": []
    },
    {
      "cell_type": "code",
      "source": [
        "\"\"\"\n",
        "#17. Print d and f. Do you have your expected f?\n",
        "For instance, if your d is:\n",
        "array([[[1.85836099, 1.67064465, 1.62576044, 1.40243961, 1.88454931],\n",
        "        [1.75354326, 1.69403643, 1.36729252, 1.61415071, 1.12104981],\n",
        "        [1.72201435, 1.1862918 , 1.87078449, 1.7726778 , 1.88180042]],\n",
        "\n",
        "       [[1.44747908, 1.31673383, 1.02000951, 1.52218947, 1.97066381],\n",
        "        [1.79129243, 1.74983003, 1.96028037, 1.85166831, 1.65450881],\n",
        "        [1.18068344, 1.9587381 , 1.00656599, 1.93402165, 1.73514584]]])\n",
        "\n",
        "Your f should be:\n",
        "array([[[ 75.,  75.,  75.,  25.,  75.],\n",
        "        [ 75.,  75.,  25.,  25.,  25.],\n",
        "        [ 75.,  25.,  75.,  75.,  75.]],\n",
        "\n",
        "       [[ 25.,  25.,  25.,  25., 100.],\n",
        "        [ 75.,  75.,  75.,  75.,  75.],\n",
        "        [ 25.,  75.,   0.,  75.,  75.]]])\n",
        "\"\"\" \n",
        "print(f)\n",
        "print(d)"
      ],
      "metadata": {
        "id": "d2yHUeSF10sY",
        "outputId": "2c359315-dd04-40ff-ca3f-27476097d0e8",
        "colab": {
          "base_uri": "https://localhost:8080/"
        }
      },
      "execution_count": 87,
      "outputs": [
        {
          "output_type": "stream",
          "name": "stdout",
          "text": [
            "[[[ 75   0  75  75 100]\n",
            "  [ 25  75  25  75  75]\n",
            "  [ 25  75  25  75  25]]\n",
            "\n",
            " [[ 75  25  25  75  25]\n",
            "  [ 25  25  75  25  25]\n",
            "  [ 75  75  75  75  25]]]\n",
            "[[[1.70545093 1.05375956 1.65640266 1.84122242 1.98486184]\n",
            "  [1.16528782 1.80211606 1.53037329 1.61758331 1.80421208]\n",
            "  [1.09143982 1.94143268 1.25727366 1.64219922 1.09262126]]\n",
            "\n",
            " [[1.88364845 1.0728972  1.09391193 1.77219534 1.18585808]\n",
            "  [1.23653994 1.26110976 1.72429009 1.343431   1.4964224 ]\n",
            "  [1.8501884  1.77996787 1.64215756 1.91902902 1.51070768]]]\n"
          ]
        }
      ]
    },
    {
      "cell_type": "code",
      "source": [
        "\"\"\"\n",
        "#18. Bonus question: instead of using numbers (i.e. 0, 25, 50, 75, and 100), how to use string values \n",
        "(\"A\", \"B\", \"C\", \"D\", and \"E\") to label the array elements? You are expecting the result to be:\n",
        "array([[[ 'D',  'D',  'D',  'B',  'D'],\n",
        "        [ 'D',  'D',  'B',  'B',  'B'],\n",
        "        [ 'D',  'B',  'D',  'D',  'D']],\n",
        "\n",
        "       [[ 'B',  'B',  'B',  'B',  'E'],\n",
        "        [ 'D',  'D',  'D',  'D',  'D'],\n",
        "        [ 'B',  'D',   'A',  'D', 'D']]])\n",
        "Again, you don't need Numpy in this question.\n",
        "\"\"\" \n",
        "\n",
        "np.where(d == d_min,\"A\", \n",
        "np.where(d == d_max,\"E\", \n",
        "np.where(d == d_mean,\"C\", \n",
        "np.where((d > d_min) & (d < d_mean),\"B\",\n",
        "np.where((d > d_mean) & (d < d_max),\"D\", 1000)))))"
      ],
      "metadata": {
        "id": "uJpM0pLG11rp",
        "outputId": "9d6f160c-7c9e-41b6-c8f3-bc05fb90e948",
        "colab": {
          "base_uri": "https://localhost:8080/"
        }
      },
      "execution_count": 88,
      "outputs": [
        {
          "output_type": "execute_result",
          "data": {
            "text/plain": [
              "array([[['D', 'A', 'D', 'D', 'E'],\n",
              "        ['B', 'D', 'B', 'D', 'D'],\n",
              "        ['B', 'D', 'B', 'D', 'B']],\n",
              "\n",
              "       [['D', 'B', 'B', 'D', 'B'],\n",
              "        ['B', 'B', 'D', 'B', 'B'],\n",
              "        ['D', 'D', 'D', 'D', 'B']]], dtype='<U21')"
            ]
          },
          "metadata": {},
          "execution_count": 88
        }
      ]
    }
  ]
}